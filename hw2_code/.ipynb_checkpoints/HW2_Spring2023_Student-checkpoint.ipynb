{
 "cells": [
  {
   "cell_type": "markdown",
   "metadata": {
    "id": "xs9yYSRW_Mvs"
   },
   "source": [
    "## Spring 2023 CS4641/CS7641 A Homework 2\n",
    "\n",
    "## Instructor: Dr. Mahdi Roozbahani\n",
    "\n",
    "## Deadline: Friday, March 10th, 11:59 pm EST\n",
    "\n",
    "<!-- No changes needed on the below section -->\n",
    "* No unapproved extension of the deadline is allowed. Submission past our 48-hour penalized acceptance period will lead to 0 credit. \n",
    "\n",
    "* Discussion is encouraged on Ed as part of the Q/A. However, all assignments should be done individually.\n",
    "\n",
    "* <font color='darkred'>Plagiarism is a **serious offense**. You are responsible for completing your own work. You are not allowed to copy and paste, or paraphrase, or submit materials created or published by others, as if you created the materials. All materials submitted must be your own.</font>\n",
    "\n",
    "* <font color='darkred'>All incidents of suspected dishonesty, plagiarism, or violations of the Georgia Tech Honor Code will be subject to the institute’s Academic Integrity procedures. If we observe any (even small) similarities/plagiarisms detected by Gradescope or our TAs, **WE WILL DIRECTLY REPORT ALL CASES TO OSI**, which may, unfortunately, lead to a very harsh outcome. **Consequences can be severe, e.g., academic probation or dismissal, grade penalties, a 0 grade for assignments concerned, and prohibition from withdrawing from the class.**\n",
    "</font>\n"
   ]
  },
  {
   "cell_type": "markdown",
   "metadata": {
    "id": "uI6nZBMF_Mvw"
   },
   "source": [
    "## Instructions for the assignment \n",
    "\n",
    "<!-- No changes needed on the below section -->\n",
    "- This assignment consists of both programming and theory questions.\n",
    "\n",
    "- Unless a theory question explicitly states that no work is required to be shown,  you must provide an explanation, justification, or calculation for your answer.\n",
    "\n",
    "- To switch between cell for code and for markdown, see the menu -> Cell -> Cell Type\n",
    "    \n",
    "- You can directly type Latex equations into markdown cells.\n",
    "    \n",
    "- If a question requires a picture, you could use this syntax `<img src=\"\" style=\"width: 300px;\"/>` to include them within your ipython notebook.\n",
    "\n",
    "- Your write up must be submitted in PDF form. You may use either Latex,  markdown, or any word processing software. <font color = 'darkred'>We will **NOT** accept handwritten work. </font> Make sure that your work is formatted correctly, for example submit $\\sum_{i=0} x_i$ instead of \\text{sum\\_\\{i=0\\} x\\_i}\n",
    "- When submitting the non-programming part of your assignment, you must correctly map pages of your PDF to each question/subquestion to reflect where they appear. <font color='darkred'>**Improperly mapped questions may not be graded correctly and/or will result in point deductions for the error.**</font>\n",
    "- All assignments should be done individually, and each student must write up and submit their own answers.\n",
    "- **Graduate Students**: You are required to complete any sections marked as Bonus for Undergrads  "
   ]
  },
  {
   "cell_type": "markdown",
   "metadata": {
    "id": "g7stIuyo_Mvx"
   },
   "source": [
    "## Using the autograder\n",
    "\n",
    "- Grads will find three assignments and Undergrads will find four assignments on Gradescope that correspond to HW2: \"Assignment 2 Programming\", \"Assignment 2 - Non-programming\", \"Assignment 2 Programming - Bonus for all\", and \"Assignment 2 Programming - Bonus for Undergrad\" (Undergrad Only).\n",
    "\n",
    "<!-- No changes needed on the below section -->\n",
    "- You will submit your code for the autograder in the Assignment 2 Programming sections. Please refer to the Deliverables and Point Distribution section for what parts are considered required, bonus for undergrads, and bonus for all.\n",
    "\n",
    "- We provided you different .py files and we added libraries in those files please DO NOT remove those lines and add your code after those lines. Note that these are the only allowed libraries that you can use for the homework.\n",
    "\n",
    "- You are allowed to make as many submissions until the deadline as you like. Additionally, note that the autograder tests each function separately, therefore it can serve as a useful tool to help you debug your code if you are not sure of what part of your implementation might have an issue.\n",
    "<!-- No changes needed on the above section -->\n",
    "\n",
    "- **For the \"Assignment 2 - Non-programming\" part, you will need to submit to Gradescope a PDF copy of your Jupyter Notebook with the cells ran. [See this EdStem Post for multiple ways on to convert your .ipynb into a .pdf file.](https://edstem.org/us/courses/32639/discussion/2556131)** Please refer to the Deliverables and Point Distribution section for an outline of the non-programming questions.\n",
    "- **When submitting to Gradescope, please make sure to mark the page(s) corresponding to each problem/sub-problem. The pages in the PDF should be of size 8.5\" x 11\", otherwise there may be a deduction in points for extra long sheets.**"
   ]
  },
  {
   "cell_type": "markdown",
   "metadata": {},
   "source": [
    "## Using the local tests <a id='using_local_tests'></a>\n",
    "- For some of the programming questions we have included a local test using a small toy dataset to aid in debugging. The local tests are all stored in localtests.py\n",
    "- There are no points associated with passing or failing the local tests, you must still pass the autograder to get points. \n",
    "- **It is possible to fail the local test and pass the autograder** since the autograder has a certain allowed error tolerance while the local test allowed error may be smaller. Likewise, passing the local tests does not guarantee passing the autograder. \n",
    "- **You do not need to pass both local and autograder tests to get points, passing the Gradescope autograder is sufficient for credit.**\n",
    "- It might be helpful to comment out the tests for functions that have not been completed yet. \n",
    "- It is recommended to test the functions as it gets completed instead of completing the whole class and then testing. This may help in isolating errors. Do not solely rely on the local tests, continue to test on the autograder regularly as well. "
   ]
  },
  {
   "cell_type": "markdown",
   "metadata": {
    "id": "_Nz2030u_Mvy",
    "tags": []
   },
   "source": [
    "## Deliverables and Points Distribution \n",
    "\n",
    "\n",
    "### Q1: KMeans Clustering & DBScan [50pts total: 37pts + 13pts Bonus for Undergrad]\n",
    "#### Deliverables: <font color = 'green'>kmeans.py and dbscan.py</font>\n",
    "\n",
    "- **pairwise_dist** [5 pts] - *programming*\n",
    "\n",
    "- **KMeans Implementation** [30pts] - _programming_\n",
    "    - init_centers [2pts]\n",
    "    - kmpp_init [3pts] **BONUS FOR UNDERGRAD**\n",
    "    - update_assignment [5pts]\n",
    "    - update_centers [5pts]\n",
    "    - get_loss function [5pts]\n",
    "    - train [10pts]\n",
    "\n",
    "- **Silhouette Coefficient vs Davies-Bouldin Index** [5 pts] - *non-programming*\n",
    "\n",
    "- **DBScan** [10 pts] - *programming* **BONUS FOR UNDERGRAD**\n",
    "    - regionQuery [2pts]\n",
    "    - expandClusters [4pts]\n",
    "    - fit [4pts]\n",
    "\n",
    "\n",
    "### Q2: EM Algorithm [15pts total]\n",
    "#### Deliverables: <font color = 'green'>Written Report</font>\n",
    "\n",
    "- **2.1 Performing EM Update** [15 pts] - *non-programming*\n",
    "    - 2.1.1 [3pts] - *non-programming*\n",
    "\n",
    "    - 2.1.2 [3pts] - *non-programming*\n",
    "\n",
    "    - 2.1.3 [9pts] - *non-programming*  \n",
    "\n",
    "\n",
    "### Q3: GMM implementation [65pts total: 60pts + 5pts Bonus for All] \n",
    "#### Deliverables: <font color = 'green'>gmm.py and Written Report</font>\n",
    "\n",
    "- 3.1 Helper Functions [15pts] - *programming & non-programming*\n",
    "\n",
    "    - 3.1.1. softmax [5pts]\n",
    "\n",
    "    - 3.1.2. logsumexp [3pts + 2pts] - *programming & non-programming*\n",
    "\n",
    "    - 3.1.3. normalPDF [5pts] - *for CS4641 students only*\n",
    "\n",
    "    - 3.1.3. multinormalPDF [5pts] - *for CS7641 students only*\n",
    "\n",
    "- 3.2 GMM Implementation [30pts] - *programming*\n",
    "\n",
    "    - 3.2.1. init_components [5pts]\n",
    "\n",
    "    - 3.2.2.\\_ll_joint [10pts]\n",
    "\n",
    "    - 3.2.3. Setup iterative steps for EM algorithm [15pts]\n",
    "    \n",
    "- 3.3 Image Compression and Pixel clustering [10pts] - *non-programming*\n",
    "- 3.4 Compare Full Convariance Matrix with Diagonal Covariance Matrix [5pts Bonus for All] *non-programming*\n",
    "- 3.5 Generate samples from a Gaussian Mixture [5pts] *non-programming*\n",
    "\n",
    "\n",
    "### Q4: Cleaning Super Duper Messy data with semi-supervised learning [34pts Bonus for All] \n",
    "#### Deliverables: <font color = 'green'>semisupervised.py and Written Report</font>\n",
    "\n",
    "- 4.1: KNN [12pts] - *programming*\n",
    "    \n",
    "    - 4.1.a. complete_, incomplete_, unlabeled_ [3pts]\n",
    "    \n",
    "    - 4.1.b. CleanData \\_\\_call\\_\\_ [7pts]\n",
    "\n",
    "    - 4.1.c. MeanCleanData [2pts]\n",
    "\n",
    "- 4.2: Getting acquainted with semi-supervised learning approaches [5pts] - *non-programming*\n",
    "\n",
    "- 4.3: Implementing the EM algorithm [10pts] - *programming*\n",
    "\n",
    "    - \\_init_components [5pts]\n",
    "    \n",
    "    - SemiSupervised \\_\\_call\\_\\_ [5pts]\n",
    "\n",
    "- 4.4: Demonstrating the performance of the algorithm [5pts] - *programming*\n",
    "    \n",
    "    - accuracy_semi_supervised [2.5pts]\n",
    "    \n",
    "    - accuracy_GNB [2.5pts]\n",
    "\n",
    "- 4.5: Interpretation of Results [2pts] - *non-programming* \n",
    "\n",
    "\n",
    "Note: It is highly recommended that you do Q4 (if not for the HW then before the project) as it teaches you imperfect data handling and a good understanding of how the models you have learnt can be used together for better results."
   ]
  },
  {
   "cell_type": "markdown",
   "metadata": {
    "id": "cKKsCsvo_Mvz"
   },
   "source": [
    "## 0 Set up\n",
    "This notebook is tested under [python 3.\\**.\\**](https://www.python.org/downloads/release/python-368/), and the corresponding packages can be downloaded from [miniconda](https://docs.conda.io/en/latest/miniconda.html). You may also want to get yourself familiar with several packages:\n",
    "\n",
    "- [jupyter notebook](https://jupyter-notebook.readthedocs.io/en/stable/)\n",
    "- [numpy](https://docs.scipy.org/doc/numpy-1.15.1/user/quickstart.html)\n",
    "- [matplotlib](https://matplotlib.org/users/pyplot_tutorial.html)\n",
    "\n",
    "You can create a python conda environment with the necessary packages using the instructions in the `environment/environment_setup.md` file.\n",
    "\n",
    "Please implement the functions that have \"raise NotImplementedError\", and after you finish the coding, please delete or comment \"raise NotImplementedError\"."
   ]
  },
  {
   "cell_type": "code",
   "execution_count": 1,
   "metadata": {
    "colab": {
     "base_uri": "https://localhost:8080/"
    },
    "id": "HhlrgV1__Mvz",
    "outputId": "1b21a9dc-5a27-4da2-c54c-400962b79bef"
   },
   "outputs": [
    {
     "name": "stdout",
     "output_type": "stream",
     "text": [
      "Version information\n",
      "python: 3.10.9 (main, Jan 11 2023, 15:21:40) [GCC 11.2.0]\n",
      "matplotlib: 3.6.2\n",
      "numpy: 1.23.5\n"
     ]
    }
   ],
   "source": [
    "###############################\n",
    "### DO NOT CHANGE THIS CELL ###\n",
    "###############################\n",
    "\n",
    "from __future__ import absolute_import\n",
    "from __future__ import print_function\n",
    "from __future__ import division\n",
    "\n",
    "%matplotlib inline  \n",
    "\n",
    "import sys\n",
    "import matplotlib\n",
    "import numpy as np\n",
    "import matplotlib.pyplot as plt\n",
    "import utilities.localtests as localtests\n",
    "from mpl_toolkits.mplot3d import axes3d\n",
    "from tqdm import tqdm\n",
    "\n",
    "print('Version information')\n",
    "\n",
    "print('python: {}'.format(sys.version))\n",
    "print('matplotlib: {}'.format(matplotlib.__version__))\n",
    "print('numpy: {}'.format(np.__version__))\n",
    "\n",
    "# Load image\n",
    "import imageio\n",
    "\n",
    "%load_ext autoreload\n",
    "%autoreload 2"
   ]
  },
  {
   "cell_type": "markdown",
   "metadata": {
    "id": "Ysr89SO3_Mv0"
   },
   "source": [
    "## 1. Painting on Canvas - KMeans Clustering & DBScan [50pts total: 37pts + 13pts Bonus for Undergrad]\n",
    "\n",
    "Rob Boss, a perpetual Ph.D student at Georgia Tech University, is teaching his dissertation robot, Pablo, how to paint in preparation for the Clough Art Crawl. Unfortunately, Rob is on a shoestring PhD budget and can only afford to buy Pablo a limited variety of colors to practice with. Luckily Rob has taken Machine Learning and remembers that KMeans clustering can be used to compress images down to a few colors. Here you will help Rob paint this happy lovely dog by implementing KMeans.\n",
    "\n",
    "(Artwork generated by [Fotor](https://www.fotor.com/features/ai-image-generator/))"
   ]
  },
  {
   "cell_type": "markdown",
   "metadata": {
    "id": "OH4OmIDj_Mv1"
   },
   "source": [
    "<img src=\"data/images/dog.png\" width=\"500\">"
   ]
  },
  {
   "cell_type": "markdown",
   "metadata": {
    "id": "1B5DYD13_Mv2"
   },
   "source": [
    "KMeans is trying to solve the following optimization problem:\n",
    "\n",
    "\\begin{align}\n",
    "\\arg \\min_S \\sum_{i=1}^K \\sum_{x_j \\in S_i} ||x_j - \\mu_i||^2\n",
    "\\end{align}\n",
    "where one needs to partition the N observations into K clusters: $S = \\{S_1, S_2, \\ldots, S_K\\}$ and each cluster has $\\mu_i$ as its center.\n"
   ]
  },
  {
   "cell_type": "markdown",
   "metadata": {
    "id": "NtdX4lTz_Mv2"
   },
   "source": [
    "### 1.1 pairwise distance [5pts]\n",
    "\n",
    "In this section, you are asked to implement pairwise_dist function.\n",
    "\n",
    "Given $X \\in \\mathbb{R}^{N \\times D}$ and $Y \\in \\mathbb{R}^{M \\times D}$, obtain the pairwise distance matrix $dist \\in \\mathbb{R}^{N \\times M}$ using the euclidean distance metric, where $dist_{i, j} = ||X_i - Y_j||_2$.  \n",
    "\n",
    "DO NOT USE LOOPS in your implementation, **using for-loops or while-loops will result in 0 credit for this portion.** [Use array broadcasting instead](https://numpy.org/doc/stable/user/basics.broadcasting.html).\n",
    "\n",
    "We have provided some unit tests in localtests.py for you to check your implementation. See [Using the Local Tests](#using_local_tests) for more details. "
   ]
  },
  {
   "cell_type": "code",
   "execution_count": 2,
   "metadata": {},
   "outputs": [
    {
     "name": "stdout",
     "output_type": "stream",
     "text": [
      "UnitTest passed successfully!\n",
      "UnitTest passed successfully!\n"
     ]
    }
   ],
   "source": [
    "localtests.KMeansTests().test_pairwise_dist()\n",
    "localtests.KMeansTests().test_pairwise_speed()"
   ]
  },
  {
   "cell_type": "markdown",
   "metadata": {
    "id": "isP9lpcG_Mv4"
   },
   "source": [
    "### 1.2 KMeans Implementation [30pts: 27pts + 3pts Bonus for Undergrad]\n",
    "\n",
    "In this section, you are asked to implement several methods in **kmeans.py**\n",
    "\n",
    "#### Initialization: [5pts: 2pts + 3pts Bonus for Undergrad]\n",
    "The Kmeans algorithm is sensitive to how the centers are initialized. The naive approach is to randomly initialize the centers. However, a bad initialization can increase the time required for convergence or may even converge to a non-optimal solution.\n",
    "\n",
    "- **init_centers** [2pts]: Here you will initialize the centers randomly **(Required for all)**\n",
    "- **kmpp_init** [3pts Bonus for Undergrad]: Here you will use the intuition that points further away from each other will probably be better initial centers by implementing a version of KMeans++ **(Bonus for Undergrad, required for Grads)**\n",
    "\n",
    "**Hint**: We need to initialize the centers without repetition.\n",
    "\n",
    "##### KMeans++\n",
    "The algorithm for KMPP that you will implement can be described as follows:\n",
    "1. Sample 1% of the points from the dataset, uniformly at random (UAR) and without replacement. This sample will be the dataset the remainder of the algorithm uses to minimize initialization overhead.\n",
    "2. From the above sample, select only one random point to be the first cluster center.\n",
    "3. For each point in the sampled dataset, find the nearest currently established cluster center and record the squared distance to get there.\n",
    "4. Examine all the squared distances and take the point with the maximum squared distance as a new cluster center. In other words, we will choose the next center based on the maximum of the minimum calculated distance instead of sampling randomly like in step 2. You may break ties arbitrarily.\n",
    "5. Repeat 3-4 until all k-centers have been assigned. You may use a loop over K to keep track of the data in each cluster. \n",
    "\n",
    "#### Updating Cluster Assignments: [5pts]\n",
    "After you've chosen your centers, you will need to update the membership of each point based on the closest center.\n",
    "You will implement this in **update_assignment**. See docstring for more details.\n",
    "\n",
    "#### Updating Centers Assignments: [5pts]\n",
    "Since cluster memberships may have changed, you will need to update the cluster centers. You will implement this in **update_centers**. See docstring for more details.\n",
    "\n",
    "\n",
    "#### Loss & Convergence [5pts]\n",
    "We will consider KMeans to be converged when the change in loss drops below a threshold value. The loss will be\n",
    "defined as the sum of the squared distances between each point and its respective center. \n",
    "\n",
    "**Hint**: You may use a loop over K to keep track of the data in each cluster. Avoid looping over N individual datapoints.\n",
    "\n",
    "#### Train the model [10pts]\n",
    "In the **train** method you will use all of the previously implemented steps to train your KMeans algorithm until convergence. Since the centers have already been initialized in the __init__ function the general steps for the `train` method is as follows:\n",
    "1. Update the cluster assignment for each point\n",
    "2. Update the cluster centers based on the new assignments from Step 1\n",
    "3. Check to make sure there is no [mean without a cluster](https://www.youtube.com/watch?v=MAU0gQXn28s), i.e. no cluster center without any points assigned to it.\n",
    "    - In the event of a cluster with no points assigned, pick a random point in the dataset to be the new center and update your cluster assignment accordingly.\n",
    "4. Calculate the loss and check if the model has converged to break the loop early.\n",
    "    - The convergence criteria is measured by whether the percentage difference in loss compared to the previous iteration is less than the given relative tolerance threshold (self.rel_tol). \n",
    "5. Iterate through steps 1 to 4 max_iters times. **Make sure to avoid infinite looping.**\n",
    "\n",
    "We have provided the following local tests to help you check your implementation. Provided unit-tests are meant as a guide and are not intended to be comprehensive. See [Using the Local Tests](#using_local_tests) for more details. "
   ]
  },
  {
   "cell_type": "code",
   "execution_count": 11,
   "metadata": {},
   "outputs": [
    {
     "name": "stdout",
     "output_type": "stream",
     "text": [
      "(2,)\n"
     ]
    }
   ],
   "source": [
    "A = np.array([[1,3,2], [6,5,4]])\n",
    "print(np.argmax(A,axis=1).shape)"
   ]
  },
  {
   "cell_type": "code",
   "execution_count": 43,
   "metadata": {
    "scrolled": false
   },
   "outputs": [
    {
     "data": {
      "image/png": "[encoded data removed]",
      "text/plain": [
       "<Figure size 640x480 with 1 Axes>"
      ]
     },
     "metadata": {},
     "output_type": "display_data"
    },
    {
     "name": "stdout",
     "output_type": "stream",
     "text": [
      "UnitTest passed successfully!\n",
      "Unexpected exception formatting exception. Falling back to standard exception\n"
     ]
    },
    {
     "name": "stderr",
     "output_type": "stream",
     "text": [
      "Traceback (most recent call last):\n",
      "  File \"/home/jarobledo/anaconda3/envs/ml_hw2/lib/python3.10/site-packages/IPython/core/interactiveshell.py\", line 3460, in run_code\n",
      "    exec(code_obj, self.user_global_ns, self.user_ns)\n",
      "  File \"/tmp/ipykernel_150/4003642920.py\", line 3, in <module>\n",
      "    localtests.KMeansTests().test_update_centers()\n",
      "  File \"/home/jarobledo/gatech/cs7641/cs7641_hw2/hw2_code/utilities/localtests.py\", line 87, in test_update_centers\n",
      "    new_centers = kmeans.update_centers()\n",
      "  File \"/home/jarobledo/gatech/cs7641/cs7641_hw2/hw2_code/kmeans.py\", line 160, in update_centers\n",
      "    raise NotImplementedError\n",
      "NotImplementedError\n",
      "\n",
      "During handling of the above exception, another exception occurred:\n",
      "\n",
      "Traceback (most recent call last):\n",
      "  File \"/home/jarobledo/anaconda3/envs/ml_hw2/lib/python3.10/site-packages/IPython/core/interactiveshell.py\", line 2057, in showtraceback\n",
      "    stb = self.InteractiveTB.structured_traceback(\n",
      "  File \"/home/jarobledo/anaconda3/envs/ml_hw2/lib/python3.10/site-packages/IPython/core/ultratb.py\", line 1118, in structured_traceback\n",
      "    return FormattedTB.structured_traceback(\n",
      "  File \"/home/jarobledo/anaconda3/envs/ml_hw2/lib/python3.10/site-packages/IPython/core/ultratb.py\", line 1012, in structured_traceback\n",
      "    return VerboseTB.structured_traceback(\n",
      "  File \"/home/jarobledo/anaconda3/envs/ml_hw2/lib/python3.10/site-packages/IPython/core/ultratb.py\", line 865, in structured_traceback\n",
      "    formatted_exception = self.format_exception_as_a_whole(etype, evalue, etb, number_of_lines_of_context,\n",
      "  File \"/home/jarobledo/anaconda3/envs/ml_hw2/lib/python3.10/site-packages/IPython/core/ultratb.py\", line 818, in format_exception_as_a_whole\n",
      "    frames.append(self.format_record(r))\n",
      "  File \"/home/jarobledo/anaconda3/envs/ml_hw2/lib/python3.10/site-packages/IPython/core/ultratb.py\", line 736, in format_record\n",
      "    result += ''.join(_format_traceback_lines(frame_info.lines, Colors, self.has_colors, lvals))\n",
      "  File \"/home/jarobledo/anaconda3/envs/ml_hw2/lib/python3.10/site-packages/stack_data/utils.py\", line 145, in cached_property_wrapper\n",
      "    value = obj.__dict__[self.func.__name__] = self.func(obj)\n",
      "  File \"/home/jarobledo/anaconda3/envs/ml_hw2/lib/python3.10/site-packages/stack_data/core.py\", line 698, in lines\n",
      "    pieces = self.included_pieces\n",
      "  File \"/home/jarobledo/anaconda3/envs/ml_hw2/lib/python3.10/site-packages/stack_data/utils.py\", line 145, in cached_property_wrapper\n",
      "    value = obj.__dict__[self.func.__name__] = self.func(obj)\n",
      "  File \"/home/jarobledo/anaconda3/envs/ml_hw2/lib/python3.10/site-packages/stack_data/core.py\", line 649, in included_pieces\n",
      "    pos = scope_pieces.index(self.executing_piece)\n",
      "  File \"/home/jarobledo/anaconda3/envs/ml_hw2/lib/python3.10/site-packages/stack_data/utils.py\", line 145, in cached_property_wrapper\n",
      "    value = obj.__dict__[self.func.__name__] = self.func(obj)\n",
      "  File \"/home/jarobledo/anaconda3/envs/ml_hw2/lib/python3.10/site-packages/stack_data/core.py\", line 628, in executing_piece\n",
      "    return only(\n",
      "  File \"/home/jarobledo/anaconda3/envs/ml_hw2/lib/python3.10/site-packages/executing/executing.py\", line 164, in only\n",
      "    raise NotOneValueFound('Expected one value, found 0')\n",
      "executing.executing.NotOneValueFound: Expected one value, found 0\n"
     ]
    }
   ],
   "source": [
    "localtests.KMeansTests().test_init()\n",
    "localtests.KMeansTests().test_cluster_assignment()\n",
    "localtests.KMeansTests().test_update_centers()\n",
    "localtests.KMeansTests().test_kmeans_loss()"
   ]
  },
  {
   "cell_type": "markdown",
   "metadata": {},
   "source": [
    "### 1.3 Visualize KMeans [0pts]\n",
    "We will now take a look at how image quality is impacted by the number of clusters"
   ]
  },
  {
   "cell_type": "code",
   "execution_count": null,
   "metadata": {
    "id": "ebdi_dyS_Mv5",
    "outputId": "ff63df0c-d9ed-430c-e881-a1645a180c00"
   },
   "outputs": [],
   "source": [
    "###############################\n",
    "### DO NOT CHANGE THIS CELL ###\n",
    "###############################\n",
    "\n",
    "#Note that because of a different file structure, students' paths will be different\n",
    "from utilities.utilities import *\n",
    "image_values = image_to_matrix('./data/images/dog.png')\n",
    "\n",
    "r = image_values.shape[0]\n",
    "c = image_values.shape[1]\n",
    "ch = image_values.shape[2]\n",
    "# flatten the image_values\n",
    "image_values = image_values.reshape(r*c,ch)\n",
    "\n",
    "print('Loading...')\n",
    "\n",
    "image_2 = update_image_values(2, image_values, r, c, ch).reshape(r, c, ch)\n",
    "image_5 = update_image_values(5, image_values, r, c, ch).reshape(r, c, ch)\n",
    "image_10 = update_image_values(10, image_values, r, c, ch).reshape(r, c, ch)\n",
    "image_20 = update_image_values(20, image_values, r, c, ch).reshape(r, c, ch)\n",
    "\n",
    "plot_image([image_2, image_5, image_10, image_20], ['K = 2', 'K = 5', 'K = 10', 'K = 20'])"
   ]
  },
  {
   "cell_type": "markdown",
   "metadata": {},
   "source": [
    "### 1.5 Silhouette Coefficient vs Davies-Bouldin Index [5pts]\n",
    "#### Silhouette Coefficient:\n",
    "\n",
    "As presented in class, we define the Silhouette Coefficient for a clustering C as\n",
    "$$SC = \\frac{1}{n}\\sum_{i=1}^n{s_i}$$\n",
    "With individual Silhouette Coefficients at a point $x_i$ defined as \n",
    "$$s_i = \\frac{\\mu_{out}^{min}(x_i) - \\mu_{in}(x_i)}{\\max\\{\\mu_{out}^{min}(x_i),\\mu_{in}(x_i)\\}}$$\n",
    "\n",
    "\n",
    "Where $\\mu_{in}(x_i)$ is the mean distance from point $x_i$ to points in its own cluster and $\\mu_{out}^{min}(x_i)$ is the mean of the distances from point $x_i$ to points in the closest other cluster.\n"
   ]
  },
  {
   "cell_type": "markdown",
   "metadata": {},
   "source": [
    "#### Davies–Bouldin Index:\n",
    "As presented in class, we define the Davies-Bouldin index for a clustering C as \n",
    "\n",
    "$$DB = \\frac{1}{k}\\sum_{i=1}^{k}D_i$$\n",
    "\n",
    "Where $k$ represents the number of clusters and \n",
    "$$D_i = \\max_{i\\neq j}DB_{ij}$$ \n",
    "$DB_{ij}$ is the Davies-Bouldin measure between clusters $C_i$ and $C_j$\n",
    "$$DB{ij} = \\frac{\\sigma_{\\mu_i} + \\sigma_{\\mu_j}}{\\delta(\\mu_i, \\mu_j)}$$\n",
    "\n",
    "Where $\\mu_i$ and $\\mu_j$ denote the cluster means for clusters $C_i$ and $C_j$ respectively and  $\\delta$ represents a distance function to measure separation between the means, typically Euclidean distance.\n",
    "\n",
    "In the numerator, $\\sigma_{\\mu_i}$ and $\\sigma_{\\mu_j}$ denote the dispersion of the points in clusters $C_i$ and $C_j$ respectively around its cluster means.\n",
    "  $$ \\sigma_{\\mu_i} =  \\sqrt{\\frac{\\sum_{x_j \\in C_i} \\delta(x_j,\\mu_i)^2}{n_i}} = \\sqrt{var(C_i)}$$\n",
    "\n",
    "**Refer to the class notes for more information on the Silhouette Coefficient and the Davies-Bouldin Index.**"
   ]
  },
  {
   "cell_type": "markdown",
   "metadata": {},
   "source": [
    "In a couple of sentences, please answer the following questions: \n",
    "1. What is the difference between Davies-Bouldin index and Silhoutte Coefficient? (3pts)\n",
    "2. What is the time complexity of calculating the Silhouette Coefficient? Briefly explain how you got this answer. (2pts) \n",
    "\n",
    "#### Answer\n",
    "1. ...\n",
    "2. ..."
   ]
  },
  {
   "cell_type": "markdown",
   "metadata": {
    "id": "F6RKWYnT_Mv6"
   },
   "source": [
    "### 1.6 Limitation of K-Means\n",
    "\n",
    "You've now done the best you can selecting the perfect starting points and the right number of clusters. However one of the limitations of K-Means Clustering is that it dependes largely on the shape of the dataset. A common example of this is trying to cluster one circle within another (concentric circles). A K-means classifier will fail to do this and will end up effectively drawing a line which crosses the circles. You can visualize this limitation in the cell below."
   ]
  },
  {
   "cell_type": "code",
   "execution_count": null,
   "metadata": {
    "id": "_R0ckO9H_Mv6",
    "outputId": "5b7e8926-6161-4188-c476-21646664abfd"
   },
   "outputs": [],
   "source": [
    "###############################\n",
    "### DO NOT CHANGE THIS CELL ###\n",
    "###############################\n",
    "\n",
    "# visualize limitation of kmeans\n",
    "from kmeans import *\n",
    "from sklearn.datasets import (make_circles, make_moons)\n",
    "\n",
    "\n",
    "\n",
    "X1, y1 = make_circles(factor=0.5, noise=0.05, n_samples=1500)\n",
    "X2, y2 = make_moons(noise=0.05, n_samples=1500)\n",
    "\n",
    "def visualise(X, C, K=None):# Visualization of clustering. You don't need to change this function   \n",
    "    fig, ax = plt.subplots()\n",
    "    ax.scatter(X[:, 0], X[:, 1], c=C,cmap='rainbow')\n",
    "    if K:\n",
    "        plt.title('Visualization of K = '+str(K), fontsize=15)\n",
    "    plt.show()\n",
    "    pass\n",
    "\n",
    "kmeans = KMeans(X1, 2)\n",
    "centers1, cluster_idx1, loss1 = kmeans.train()\n",
    "visualise(X1, cluster_idx1, 2)\n",
    "kmeans = KMeans(X2, 2)\n",
    "centers2, cluster_idx2,loss2 = kmeans.train()\n",
    "visualise(X2, cluster_idx2, 2)"
   ]
  },
  {
   "cell_type": "markdown",
   "metadata": {
    "id": "fKoOWjNL_Mv6"
   },
   "source": [
    "### 1.7 DBSCAN [10pts Bonus for Undergrad]\n",
    "\n",
    "Let us try to solve these limitations using another clustering algorithm: DBSCAN. As mentioned in lecture, DBSCAN tries to find dense regions in the data spce, separated by regions of lower density. DBSCAN is parameterized by two parameters (eps and minPts):\n",
    "* $\\epsilon$: Maximum radius of neighborhood\n",
    "* $MinPts$: Minimum number of points in Eps-neighborhood of a point to be considered \"dense\".\n",
    "       \n",
    "**Refer to the class slides for the DBSCAN pseudocode** to complete fit(), expandCluster(), and regionQuery() in dbscan.py.\n",
    "\n",
    "**HINTS:** \n",
    "- You might find it easier to implement expandCluster() before attempting to implement fit().\n",
    "- regionQuery() could be used in you implementation of expandCluster()\n",
    "\n",
    "The following unittests will help get you started, but is in no way comprehensive. You are encouraged to extend and create your own test cases. See [Using the Local Tests](#using_local_tests) for more details.\n"
   ]
  },
  {
   "cell_type": "code",
   "execution_count": null,
   "metadata": {},
   "outputs": [],
   "source": [
    "localtests.DBScanTests().test_region_query()\n",
    "localtests.DBScanTests().test_expand_cluster()"
   ]
  },
  {
   "cell_type": "markdown",
   "metadata": {
    "id": "LOBQ87R-_Mv7"
   },
   "source": [
    "Then, test your fitting by running the cell below. You should be able to get a perfect clustering for the two circles dataset, which you can observe quantitatively by checking whether the clusters returned by cluster_idx and the ground truth clusters are the same and qualitatively by visualizing the clusters."
   ]
  },
  {
   "cell_type": "code",
   "execution_count": null,
   "metadata": {
    "id": "HZmNciy9_Mv7",
    "outputId": "6028974a-eb60-4cce-8c35-19b59c653ae3"
   },
   "outputs": [],
   "source": [
    "###############################\n",
    "### DO NOT CHANGE THIS CELL ###\n",
    "###############################\n",
    "\n",
    "BEST_EPS = 0.11\n",
    "BEST_POINTS = 3\n",
    "from dbscan import DBSCAN\n",
    "dbscan = DBSCAN(BEST_EPS, BEST_POINTS, X1)\n",
    "cluster_idx = dbscan.fit()\n",
    "## Note that one of the two cells should print True for a correct implementation\n",
    "print(np.array_equal(y1, cluster_idx)) #Checks if y1 == cluster_idx\n",
    "print(np.array_equal(y1, 1-cluster_idx)) ## Checks if y1 is the exact opposite of cluster_idx (1s instead of 0s and vice-versa)\n",
    "visualise(X1, cluster_idx)"
   ]
  },
  {
   "cell_type": "markdown",
   "metadata": {
    "id": "NnjRdvII_Mv7"
   },
   "source": [
    "# 2. EM algorithm [15pts]\n"
   ]
  },
  {
   "cell_type": "markdown",
   "metadata": {
    "id": "vEH3Rq6I_Mv7"
   },
   "source": [
    "### 2.1 Performing EM Update [15 pts]\n",
    "**SOLUTIONS CANNOT BE HANDWRITTEN**\n",
    "\n",
    "A univariate Gaussian Mixture Model (GMM) has two components, both of which have their own mean and standard deviation. The model is defined by the following parameters:\n",
    "$$ \\mathbf{z} \\sim Bernoulli(\\theta) = \\begin{cases} \\theta &\\text{if} \\, z=0 \\\\ 1-\\theta &\\text{if} \\, z=1 \\\\\\end{cases}$$\n",
    "$$ \\mathbf{p(x|z=0)} \\sim \\mathcal{N}(4\\mu, 3\\sigma^{2}) $$\n",
    "$$ \\mathbf{p(x|z=1)} \\sim \\mathcal{N}(5\\mu, 2\\sigma^{2}) $$\n",
    "\n",
    "For a dataset of N datapoints, find the following: \n",
    "\n",
    "\n",
    "2.1.1. Write the marginal probability of x, i.e. $p(x)$  \\[3pts]\n",
    "<br> -- *Express your answers in terms of $\\mathcal{N}(4\\mu, 3\\sigma^{2})$ and $\\mathcal{N}(5\\mu, 2\\sigma^{2})$*\n",
    "<br> -- *HINT: Start with the Sum Rule*\n",
    "\n",
    "2.1.2. E-Step: Compute the posterior probabilities, i.e, $p(z_0|x), p(z_1|x)$ \\[3pts]\n",
    "<br> -- *Express your answers in terms of $\\mathcal{N}(4\\mu, 3\\sigma^{2})$ and $\\mathcal{N}(5\\mu, 2\\sigma^{2})$*\n",
    "\n",
    "2.1.3. M-Step: Compute the updated value of $\\sigma^{2}$. (You can keep $\\mu$ fixed for this.) \\[9pts]\n",
    "<br> -- *Note that $\\sigma^2$ is a shared variable between the two distributions, your final answer should be one equation*\n",
    "<br> -- *Express your answers in terms of $\\tau$, $x$, and $\\mu$ (you will need to expand $\\mathcal{N}(4\\mu, 3\\sigma^{2})$ and $\\mathcal{N}(5\\mu, 2\\sigma^{2})$ into its PDF form)*\n",
    "<br> -- *HINT: Start from this equation and substitute $\\theta$ with $\\sigma^2$: $$l(x|\\theta) = \\sum^{N} \\sum^{Z}p(z_k|x_n,\\theta_{old})ln[p(x_n,z_k|\\theta)]$$\n",
    "and then use the derivative method to find the value of $\\sigma^2$*\n",
    "\n",
    "*HINT:\n",
    "You can refer to this lecture to gain an understanding of the EM Algorithm. For your convenience, I have included the link below:\n",
    "\n",
    "https://mahdi-roozbahani.github.io/CS46417641-spring2023/course/09-gaussian-mixture.pdf\n",
    "\n",
    "\n",
    "#### Answers:\n",
    "\n",
    "2.1.1\n",
    "\n",
    "...\n",
    "\n",
    "2.1.2\n",
    "\n",
    "...\n",
    "\n",
    "2.1.3\n",
    "\n",
    "..."
   ]
  },
  {
   "cell_type": "markdown",
   "metadata": {
    "id": "fXcuY2pb_Mv7"
   },
   "source": [
    "## 3. GMM implementation [65pts total: 60pts + 5pts Bonus for All] \n",
    "\n",
    "**Please make sure to read the problem setup in detail. Many questions for this section may have already been answered in the description and hints and docstrings.**\n",
    "\n",
    "A Gaussian Mixture Model (GMM) is a probabilistic model that assumes all the data points are generated from a mixture of a finite number of Gaussian Distribution. In a nutshell, GMM is a soft clustering algorithm in a sense that each data point is assigned to a cluster with a probability. In order to do that, we need to convert our clustering problem into an inference problem.\n",
    "\n",
    "Given $N$ samples $X = [x_1, x_2, \\ldots, x_N]^T$, where $x_i \\in \\mathbb{R}^D$. Let $\\pi$ be a K-dimensional probability density function and $(\\mu_k; \\Sigma_k)$ be the mean and covariance matrix of the $k^{th}$ Gaussian distribution in $\\mathbb{R}^d$. \n",
    "\n",
    "The GMM object implements EM algorithms for fitting the model and MLE for optimizing its parameters. It also has some particular hypothesis on how the data was generated:\n",
    "\n",
    "- Each data point $x_i$ is assigned to a cluster $k$ with probability of $\\pi_k$ where $\\sum_{k=1}^K \\pi_k = 1$\n",
    "- Each data point $x_i$ is generated from Multivariate Normal Distribution $\\cal{N}(\\mu_k, \\Sigma_k)$ where $\\mu_k \\in \\mathbb{R}^D$ and $\\Sigma_k \\in \\mathbb{R}^{D\\times D}$\n",
    "\n",
    "Our goal is to find a $K$-dimension Gaussian distributions to model our data $X$. This can be done by learning the parameters $\\pi, \\mu$ and $\\Sigma$ through likelihood function. Detailed derivation can be found in our slide of GMM. The log-likelihood function now becomes:\n",
    "\n",
    "\\begin{align}\n",
    "    \\text{ln } p(x_1, \\dots, x_N | \\pi, \\mu, \\Sigma) = \\sum_{i=1}^N \\text{ln } \\big( \\sum_{k=1}^{K} \\pi(k) \\mathcal{N}(x_i | \\mu_k, \\Sigma_k)\\big)\n",
    "\\end{align}"
   ]
  },
  {
   "cell_type": "markdown",
   "metadata": {
    "id": "tLjk2ZYU_Mv8"
   },
   "source": [
    "From the lecture we know that MLEs for GMM all depend on each other and the responsibility $\\tau$. Thus, we need to use an iterative algorithm (the EM algorithm) to find the estimate of parameters that maximize our likelihood function. **All detailed derivations can be found in the lecture slide of GMM.**\n",
    "\n",
    "- **E-step:** Evaluate the responsibilities\n",
    "\n",
    "In this step, we need to calculate the responsibility $\\tau$, which is the conditional probability that a data point belongs to a specific cluster $k$ if we are given the datapoint, i.e. $P(z_k|x)$. The formula for $\\tau$ is given below:\n",
    "\n",
    "$$\n",
    "\\tau\\left(z_k\\right)=\\frac{\\pi_{k} \\cal{N}\\left(x | \\mu_{k}, \\Sigma_{k}\\right)}{\\sum_{j=1}^{K} \\pi_{j} \\cal{N}\\left(x | \\mu_{j}, \\Sigma_{j}\\right)}, \\quad \\text{for } k = 1, \\dots, K\n",
    "$$\n",
    "Note that each data point should have one probability for each component/cluster. For this homework, you will work with $\\tau\\left(z_k\\right)$ which has a size of $N\\times K$ and you should have all the responsibility values in one matrix. **We use gamma as $\\tau$ in this homework**.\n",
    "\n",
    "- **M-step:** Re-estimate Paramaters\n",
    "\n",
    "After we obtained the responsibility, we can find the update of parameters, which are given below:\n",
    "\n",
    "\\begin{align}\n",
    "\\mu_k^{new} &= \\dfrac{\\sum_{n=1}^N \\tau(z_k)x_n}{N_k} \\\\\n",
    "\\Sigma_k^{new} &= \\dfrac{1}{N_k}\\sum_{n=1}^N \\tau (z_k)^T(x_n - \\mu_k^{new})^T(x_n-\\mu_k^{new}) \\\\\n",
    "\\pi_k^{new} &= \\dfrac{N_k}{N}\n",
    "\\end{align}\n",
    "where $N_k = \\sum_{n=1}^N \\tau(z_k)$. Note that the updated value for $\\mu_k$ is used when updating $\\Sigma_k$. The multiplication of $\\tau (z_k)^T(x_n - \\mu_k^{new})^T$ is element-wise so it will preserve the dimensions of $(x_n - \\mu_k^{new})^T$.\n",
    "\n",
    "- We repeat E and M steps until the incremental improvement to the likelihood function is small.\n"
   ]
  },
  {
   "cell_type": "markdown",
   "metadata": {
    "id": "Jhd5Z_53_Mv8"
   },
   "source": [
    "**Special Notes**\n",
    "- For undergraduate student: you may assume that the covariance matrix $\\Sigma$ is diagonal matrix, which means the features are independent. (i.e. the red intensity of a pixel is independent from its blue intensity, etc). Make sure you set **FULL_MATRIX = False** before you submit your code to Gradescope. \n",
    "- For graduate student: please assume full covariance matrix. Make sure you set **FULL_MATRIX = True** before you submit your code to Gradescope\n",
    "- The class notes assume that your dataset $X$ is $(D, N)$ but **the homework dataset is $(N, D)$ as mentioned on the instructions, so the formula is a little different from the lecture note in order to obtain the right dimensions of parameters.**\n",
    "\n",
    "**Hints**\n",
    "\n",
    "1. **DO NOT USE FOR LOOPS OVER N.** You can always find a way to avoid looping over the observation datapoints in our homework problem. If you have to loop over D or K, that is fine.\n",
    "\n",
    "2. You can initiate $\\pi(k)$ the same for each $k$, i.e. $\\pi(k) = \\frac{1}{K}, \\forall k = 1, 2, \\ldots, K$.\n",
    "\n",
    "3. In part 3 you are asked to generate the model for pixel clustering of image. We will need to use a multivariate Gaussian because each image will hava $N$ pixels and $D=3$ features which corresponds to red, green, and blue color intensities. It means that each image is a $(N\\times3)$ dataset matrix. In the following parts, remember $D=3$ in this problem.\n",
    "\n",
    "4. To avoid using for loops in your code, we recommend you take a look at the concept [Array Broadcasting in Numpy](https://numpy.org/doc/stable/user/theory.broadcasting.html#array-broadcasting-in-numpy). Also, certain calculations that required different shapes of arrays can also be achieved by broadcasting. \n",
    "\n",
    "5. Be careful of the dimensions of your parameters. Before you test anything on the autograder, please look at the instructions below on the shapes of the variables you need to output and how to format your return statement. Print the shape of an array by [print(array.shape)](https://www.w3schools.com/python/numpy/numpy_array_shape.asp) could enhance the functionality of your code and help you debugging. Also notice that **a numpy array in shape $(N,1)$ is NOT the same as that in shape $(N,)$** so be careful and consistent on what you are using. You can see the detailed explanation here. [Difference between numpy.array shape (R, 1) and (R,)](https://stackoverflow.com/questions/22053050/difference-between-numpy-array-shape-r-1-and-r)\n",
    " - The dataset $X$: $(N, D)$\n",
    " - $\\mu$: $(K, D)$. \n",
    " - $\\Sigma$: $(K, D, D)$\n",
    " - $\\tau$: $(N, K)$\n",
    " - $\\pi$: array of length $K$\n",
    " - ll_joint: $(N, K)$\n",
    "\n"
   ]
  },
  {
   "cell_type": "markdown",
   "metadata": {
    "id": "1Iviglmb_Mv8"
   },
   "source": [
    "## 3.1 Helper functions [15pts]\n",
    "\n",
    "To facilitate some of the operations in the GMM implementation, we would like you to implement the following three helper functions. In these functions, \"logit\" refers to an input array of size $(N, D)$ that reperesents the unnormalized scores, that are passed to the softmax( ) or logsumexp( ) function. Remember the goal of helper functions is to facilitate our calculation so **DO NOT USE FOR LOOP OVER N**.\n",
    "\n",
    "### 3.1.1. softmax [5pts]\n",
    "\n",
    "Given $logit \\in \\mathbb{R}^{N \\times D}$, calculate $prob \\in \\mathbb{R}^{N \\times D}$, where $prob_{i, j} = \\frac{\\exp(logit_{i, j})}{\\sum_{d=1}^D exp(logit_{i, d})}$.\n",
    "\n",
    "Notes: \n",
    "- $logit$ here refers to the unnormalized scores that are passed in as a parameter to the softmax function. The softmax operation normalizes these scores, resulting in them having values between 0 and 1. This allows us to interpret the normalized scores as a probability distribution over the classes.\n",
    "- It is possible that $logit_{i, j}$ is very large, making $\\exp(\\cdot)$ of it to explode. To make sure it is numerically stable, for each row of $logits$ subtract the maximum of that row.\n",
    "    - By property of Softmax equation, subtracting a constant value does not change the output. \n",
    "    - For an intuitive understanding on why this helps us, consider plotting $e^{-x}$ and $e^x$ on a graphing calculator when $x \\geq 0$\n",
    "\n",
    "\n",
    "**Special Notes**\n",
    "- Do not add back the maximum for each row. \n",
    "- Add **keepdims=True** in your np.sum() function to avoid broadcast error. \n",
    "\n",
    "### 3.1.2. logsumexp [3pts Programming + 2pts Written Questions]\n",
    "\n",
    "Given $logit \\in \\mathbb{R}^{N \\times D}$, calculate $s \\in \\mathbb{R}^N$, where $s_i = \\log \\big( \\sum_{j=1}^D \\exp(logit_{i, j}) \\big)$. Again, pay attention to the numerical problem. You may face similar condition as in the softmax function. In this case, add the maximum for each row of $logit$ back for your functions \n",
    "\n",
    "\n",
    "**Special Notes**\n",
    "- This function is used in the call() function, which is given, and helps calculate the loss of log-likelihood. You will not have to call it in functions that you are required to implement."
   ]
  },
  {
   "cell_type": "markdown",
   "metadata": {},
   "source": [
    "#### Written Questions [2pts]:\n",
    "\n",
    "1) Why should we add the maximum for each row of $logit$ to **logsumexp()** function? Provide an informal mathematical proof to back up your answer.\n",
    "<br> -- *Use a simple input like $logit \\in \\mathbb{R}^{1 \\times 3}$ and work through a mathematical example.*\n",
    "<br> -- *Let N=1, D=3, $logit = \\{ logit_{11},logit_{12}, logit_{13} \\} $ and $max = logit_{13}$ is the maximum for this row.*"
   ]
  },
  {
   "cell_type": "markdown",
   "metadata": {
    "id": "YFB_8-vj_Mv8"
   },
   "source": [
    "**Answer:**\n",
    "\n",
    "...\n",
    "  "
   ]
  },
  {
   "cell_type": "markdown",
   "metadata": {
    "id": "Ig0zfoum_Mv8"
   },
   "source": [
    "### 3.1.3. Multivariate Gaussian PDF [5pts]\n",
    "You should be able to write your own function based on the following formula, and you are **NOT allowed** to use outside resource packages other than those we provided. \n",
    "\n",
    "**(for undergrads only) normalPDF**\n",
    "\n",
    "Using the covariance matrix as a diagonal matrix with variances of the individual variables appearing on the main diagonal of the matrix and zeros everywhere else means that we assume the features are independent. In this case, the multivariate normal density function simplifies to the expression below:\n",
    "$$\\mathcal{N}(x: \\mu, \\Sigma) = \\prod_{i=1}^D \\frac{1}{\\sqrt{2\\pi\\sigma_i^2}}\\exp{\\left( -\\frac{1}{2\\sigma_i^2} (x_i-\\mu_i)^2\\right)}$$\n",
    "where $\\sigma^2_i$ is the variance for the $i^{th}$ feature, which is the diagonal element of the covariance matrix.\n",
    "\n",
    "**(for grads only) multinormalPDF**\n",
    "\n",
    "Given the dataset $X \\in \\mathbb{R}^{N \\times D}$, the mean vector $\\mu \\in \\mathbb{R}^{D}$ and covariance matrix $\\Sigma \\in \\mathbb{R}^{D \\times D}$ for a multivariate Gaussian distrubution, calculate the probability $p \\in \\mathbb{R}^{N}$ of each data. The PDF is given by \n",
    "$$\\mathcal{N}(X: \\mu, \\Sigma) = \\frac{1}{(2\\pi)^{D/2}}|\\Sigma|^{-1/2}\\exp{\\left(-\\frac{1}{2}(X-\\mu)\\Sigma^{-1}(X-\\mu)^T\\right)}$$\n",
    "where $|\\Sigma|$ is the determinant of the covariance matrix.\n",
    "\n",
    "\n",
    "**Hints:**\n",
    "- If you encounter \"LinAlgError\", you can mitigate your number/array by summing a small value before taking the operation, e.g. np.linalg.inv($\\Sigma_k$ + SIGMA_CONST). You can arrest and handle such error by using [Try and Exception Block](https://realpython.com/python-exceptions/#the-try-and-except-block-handling-exceptions) in Python.Please only add `SIGMA_CONST` when `sigma_i` is not invertible. \n",
    "\n",
    "- In the above calculation, you must avoid computing a $(N,N)$ matrix. Using the above equation for large N will crash your kernel and/or give you a memory error on Gradescope. Instead, you can do this same operation by calculating $(X-\\mu)\\Sigma^{-1}$, a $(N,D)$ matrix, transpose it to be a $(D,N)$ matrix and do an element-wise multiplication with $(X-\\mu)^T$, which is also a $(D,N)$ matrix. Lastly, you will need to sum over the 0 axis to get a $(1,N)$ matrix before proceeding with the rest of the calculation. This uses the fact that doing an element-wise multiplication and summing over the 0 axis is the same as taking the diagonal of the $(N,N)$ matrix from the matrix multiplication. \n",
    "\n",
    "- In Numpy implementation for each individual $\\mu$, you can either use a 2-D array with dimension $(1,D)$ for each Gaussian Distribution, or a 1-D array with length $D$. Same to other array parameters. Both ways should be acceptable but pay attention to the shape mismatch problem and be **consistent all the time** when you implement such arrays. \n",
    "\n",
    "- Please **DO NOT** use `self.D` in your implementation of `multinormalPDF()` . "
   ]
  },
  {
   "cell_type": "markdown",
   "metadata": {
    "id": "Cj-SyonU_Mv9"
   },
   "source": [
    "### 3.2 GMM Implementation [30pts]"
   ]
  },
  {
   "cell_type": "markdown",
   "metadata": {
    "id": "nVoCLl_3_Mv9"
   },
   "source": [
    "Things to do in this problem:\n",
    "### 3.2.1. Initialize parameters in \\_init_components() [5pts]\n",
    "\n",
    "Examples of how you can initialize the parameters. \n",
    "  1. Set the prior probability $\\pi$ the same for each class.\n",
    "  2. Initialize $\\mu$ by randomly selecting K numbers of observations as the initial mean vectors. You can use [int(np.random.uniform())](https://numpy.org/doc/stable/reference/random/generated/numpy.random.uniform.html) to get the row index number of the datapoints randomly. \n",
    "  3. Initialize the covariance matrix with [np.eye()](https://numpy.org/devdocs/reference/generated/numpy.eye.html) for each k. For grads, you can also initialize the $\\Sigma$ by K diagonal matrices. It will become a full matrix after one iteration, as long as you adopt the correct computation.\n",
    "  4. Other ways of initialization are acceptable and welcome. The autograder will only test the shape of your $\\pi$,$\\mu$, $\\sigma$. Make sure you pass other evaluations in the autograder.\n",
    "\n",
    "### 3.2.2. Formulate the log-likelihood function \\_ll_joint() [10pts]\n",
    "\n",
    "The log-likelihood function is given by:\n",
    "$$\n",
    "\\begin{align}\n",
    "    \\ell(\\theta) = \\sum_{i=1}^N \\text{ln } \\big( \\sum_{k=1}^{K} \\pi(k) \\mathcal{N}(x_i | \\mu_k, \\Sigma_k)\\big)\n",
    "\\end{align}\n",
    "$$\n",
    "In this part, we will generate a $(N,K)$ matrix where each datapoint $x_i, \\forall i = 1, \\dots, N$ has $K$ log-likelihood numbers. Thus, for each $i = 1, \\dots, N$ and $k = 1, \\dots, K$, \n",
    "$$\n",
    "\\text{log-likelihood}[i,k] = \\log{\\pi_k}+\\log{\\cal{N}(x_i|\\mu_k, \\Sigma_k)}\n",
    "$$\n",
    "\n",
    "**Hints:**\n",
    "- If you encounter \"ZeroDivisionError\" or \"RuntimeWarning: divide by zero encountered in log\", you can mitigate your number/array by summing a small value before taking the operation, e.g. $\\text{log-likelihood}[i,k] = \\log{(\\pi_k + \\text{1e-32})}+\\log{(\\cal{N}(x_i|\\mu_k, \\Sigma_k) + \\text{1e-32})}$. If you pass the local test cases but fail the autograder, make sure you sum a small value like the example we given.  \n",
    "- You need to use the Multivariate Normal PDF function you created in the last part. Remember the PDF function is for each Gaussian Distribution (i.e. for each k) so you need to use a for loop over K. \n",
    "\n"
   ]
  },
  {
   "cell_type": "markdown",
   "metadata": {
    "id": "7EOWVBev_Mv9"
   },
   "source": [
    "### 3.2.3. Setup Iterative steps for EM Algorithm  [5pts + 10pts]\n",
    "\n",
    "You can find the detail instruction in the above description box. \n",
    "\n",
    "**Hints:**\n",
    "- For E steps, we already get the log-likelihood at _ll_joint() function. This is not the same as responsibilities ($\\tau$), but you should be able to finish this part with just a few lines of code by using _ll_joint() and softmax() defined above. \n",
    "- For undergrads: Try to simplify your calculation for $\\Sigma$ in M steps as you assumed independent components. Make sure you are only taking the diagonal terms of your calculated covariance matrix."
   ]
  },
  {
   "cell_type": "markdown",
   "metadata": {
    "id": "acABZ2wk_Mv-"
   },
   "source": [
    "### Function Tests ###\n",
    "\n",
    "Use these to test if your implementation of functions in GMM work as expected. See [Using the Local Tests](#using_local_tests) for more details. "
   ]
  },
  {
   "cell_type": "code",
   "execution_count": null,
   "metadata": {
    "id": "-AYRHI1s_Mv-"
   },
   "outputs": [],
   "source": [
    "###############################\n",
    "### DO NOT CHANGE THIS CELL ###\n",
    "###############################\n",
    "\n",
    "from gmm import GMM\n",
    "gmm_tester = localtests.GMMTests()"
   ]
  },
  {
   "cell_type": "code",
   "execution_count": null,
   "metadata": {
    "colab": {
     "base_uri": "https://localhost:8080/"
    },
    "id": "VMuVVgYn_Mv-",
    "outputId": "ae873429-2d1b-4987-913d-749efe0b4a77"
   },
   "outputs": [],
   "source": [
    "# gmm_tester.test_softmax()\n",
    "# gmm_tester.test_logsum()\n",
    "gmm_tester.test_helper_functions()\n",
    "gmm_tester.test_init_components()"
   ]
  },
  {
   "cell_type": "code",
   "execution_count": null,
   "metadata": {
    "colab": {
     "base_uri": "https://localhost:8080/"
    },
    "id": "eYB4Dpzm_Mv_",
    "outputId": "1be9fc28-dfe5-4809-a341-541c3c7a1e6c"
   },
   "outputs": [],
   "source": [
    "gmm_tester.test_undergrad()"
   ]
  },
  {
   "cell_type": "code",
   "execution_count": null,
   "metadata": {
    "colab": {
     "base_uri": "https://localhost:8080/"
    },
    "id": "OLsPpJKK_Mv_",
    "outputId": "7ca97408-896d-48c9-c8a4-cf4a949fb91b"
   },
   "outputs": [],
   "source": [
    "gmm_tester.test_grad()"
   ]
  },
  {
   "cell_type": "markdown",
   "metadata": {
    "id": "hBt48eRG_MwA"
   },
   "source": [
    "## 3.3 Image Compression and pixel clustering [10pts] \n",
    "\n",
    "Images typically need a lot of bandwidth to be transmitted over the network. In order to optimize this process, most image processors perform lossy compression of images (lossy implies some information is lost in the process of compression).\n",
    "\n",
    "In this section, you will use your GMM algorithm implementation to do pixel clustering and compress the images. That is to say, you would develop a lossy image compression algorithm. \n",
    "(Hint: you can adjust the number of clusters formed and justify your answer based on visual inspection of the resulting images or on a different metric of your choosing)\n",
    "\n",
    "\n",
    "**Special Notes**\n",
    "- Try to add a small value(e.g. SIGMA_CONST and LOG_CONST) before taking the operation if the output image is solid black.\n",
    "- The output images may be slightly different due to different initialization methods in GMM() function. \n",
    "    \n",
    "\n",
    "#### You do NOT need to submit your code for this question to the autograder. Instead we will be looking for the resulting images that the code produces in the report. Replicating similar outputs to the Expected Outputs file would be sufficient for full credit.\n"
   ]
  },
  {
   "cell_type": "code",
   "execution_count": null,
   "metadata": {
    "id": "cwDIjTtr_MwA"
   },
   "outputs": [],
   "source": [
    "###############################\n",
    "### DO NOT CHANGE THIS CELL ###\n",
    "###############################\n",
    "\n",
    "# helper function for performing pixel clustering. \n",
    "def cluster_pixels_gmm(image, K, full_matrix = True):\n",
    "    \"\"\"Clusters pixels in the input image\n",
    "    \n",
    "    Args:\n",
    "        image: input image of shape(H, W, 3)\n",
    "        K: number of components\n",
    "    Return:\n",
    "        clustered_img: image of shape(H, W, 3) after pixel clustering\n",
    "    \"\"\"\n",
    "    im_height, im_width, im_channel = image.shape\n",
    "    flat_img = np.reshape(image, [-1, im_channel]).astype(np.float32)\n",
    "    gamma, (pi, mu, sigma) = GMM(flat_img, K = K, max_iters = 10)(full_matrix)\n",
    "    cluster_ids = np.argmax(gamma, axis=1)\n",
    "    centers = mu\n",
    "\n",
    "    gmm_img = np.reshape(centers[cluster_ids], (im_height, im_width, im_channel))\n",
    "    \n",
    "    return gmm_img\n",
    "\n",
    "# helper function for plotting images. You don't have to modify it\n",
    "def plot_images(img_list, title_list, figsize=(20, 10)):\n",
    "    assert len(img_list) == len(title_list)\n",
    "    fig, axes = plt.subplots(1, len(title_list), figsize=figsize)\n",
    "    for i, ax in enumerate(axes):\n",
    "        ax.imshow(img_list[i] / 255.0)\n",
    "        ax.set_title(title_list[i])\n",
    "        ax.axis('off')"
   ]
  },
  {
   "cell_type": "code",
   "execution_count": null,
   "metadata": {
    "colab": {
     "base_uri": "https://localhost:8080/",
     "height": 1000
    },
    "id": "oL9sGASK_MwA",
    "outputId": "7c3601cb-105f-4319-81c1-4d7f073d4035",
    "scrolled": false
   },
   "outputs": [],
   "source": [
    "# the direction of two images. Both of them are from ImageNet\n",
    "img1_dir ='./data/images/gmm-example1.png'\n",
    "img2_dir ='./data/images/gmm-example2.png'\n",
    "\n",
    "# example of loading image \n",
    "image1 = imageio.imread('./data/images/gmm-example1.png')\n",
    "\n",
    "# this is for you to implement\n",
    "def perform_compression(image, min_clusters=5, max_clusters=15):\n",
    "    \"\"\"\n",
    "    Using the helper function above to find the optimal number of clusters that can appropriately produce a single image.\n",
    "    You can simply examine the answer based on your visual inspection (i.e. looking at the resulting images) or provide any metrics you prefer. \n",
    "    \n",
    "    Args:\n",
    "        image: input image of shape(H, W, 3)\n",
    "        min_clusters, max_clusters: the minimum and maximum number of clusters you should test with. Default are 5a dn 15.\n",
    "        (Usually the maximum number of clusters would not exeed 15)\n",
    "        \n",
    "    Return:\n",
    "        plot: comparison between original image and image pixel clustering.\n",
    "        optional: any other information/metric/plot you think is necessary.\n",
    "        \n",
    "    UNDERGRADS HINT: set full_matrix = False when using the helper functions\n",
    "    \"\"\"\n",
    "    \n",
    "    # TODO: Finish this function \n",
    "    raise NotImplementedError\n",
    "\n",
    "\n",
    "image1 = imageio.imread(img1_dir)\n",
    "perform_compression(image1, 5, 10)\n",
    "\n",
    "image2 = imageio.imread(img2_dir)\n",
    "perform_compression(image2, 5, 10)"
   ]
  },
  {
   "cell_type": "markdown",
   "metadata": {
    "id": "lfUa5dql_MwB"
   },
   "source": [
    "## 3.4 Compare full covariance matrix with diagonal covariance matrix [5pts Bonus for All]\n",
    "Compare full covariance matrix with diagonal covariance matrix. Can you explain why the images are different with same clusters?\n",
    "Note: You will have to implement both multinormalPDF and normalPDF, and add a few arguments in the original \\_ll_joint(), \\_M\\_step(), \\_E\\_step() function. **You will earn full credit only if you implement all functions AND provide an explanation.**"
   ]
  },
  {
   "cell_type": "code",
   "execution_count": null,
   "metadata": {
    "id": "qN8YMc3I_MwB"
   },
   "outputs": [],
   "source": [
    "###############################\n",
    "### DO NOT CHANGE THIS CELL ###\n",
    "###############################\n",
    "\n",
    "def compare_matrix(image, K):\n",
    "    \"\"\"\n",
    "    Args:\n",
    "        image: input image of shape(H, W, 3)\n",
    "        K: number of components\n",
    "        \n",
    "    Return:\n",
    "        plot: comparison between full covariance matrix and diagonal covariance matrix.\n",
    "    \"\"\"\n",
    "    #full covariance matrix\n",
    "    gmm_image_full = cluster_pixels_gmm(image, K, full_matrix = True)\n",
    "    #diagonal covariance matrix\n",
    "    gmm_image_diag = cluster_pixels_gmm(image, K, full_matrix = False)\n",
    "    \n",
    "    plot_images([gmm_image_full, gmm_image_diag], ['full covariance matrix', 'diagonal covariance matrix'])"
   ]
  },
  {
   "cell_type": "code",
   "execution_count": null,
   "metadata": {
    "colab": {
     "base_uri": "https://localhost:8080/",
     "height": 589
    },
    "id": "uVQU4PL4_MwB",
    "outputId": "934bca01-3457-46fe-f8a0-d5cca902978d"
   },
   "outputs": [],
   "source": [
    "compare_matrix(image1, 5)"
   ]
  },
  {
   "cell_type": "markdown",
   "metadata": {},
   "source": [
    "#### Answer:\n",
    "\n",
    "...\n"
   ]
  },
  {
   "cell_type": "markdown",
   "metadata": {},
   "source": [
    "## 3.5 Generate samples from a Gaussian Mixture [5pts]"
   ]
  },
  {
   "cell_type": "markdown",
   "metadata": {},
   "source": [
    "In this question, you will be fitting your GMM implementation on a 2D Gaussian Mixture to estimate the parameters of the distributions that make up the mixture, and then using these estimated parameters to generate samples.\n"
   ]
  },
  {
   "cell_type": "code",
   "execution_count": null,
   "metadata": {},
   "outputs": [],
   "source": [
    "###############################\n",
    "### DO NOT CHANGE THIS CELL ###\n",
    "###############################\n",
    "\n",
    "data = np.load('./data/mixture.npy')\n",
    "print(data.shape)\n",
    "\n",
    "plt.plot(data[:,0], data[:,1], 'x')\n",
    "plt.axis('equal')\n",
    "plt.title('2-D Gaussian Mixture')\n",
    "plt.show()"
   ]
  },
  {
   "cell_type": "markdown",
   "metadata": {},
   "source": [
    "Now, you need to estimate the parameters of the Gaussian Mixture, and then use these estimated parameters to generate 1000 samples from the Gaussian Mixture. Plot the sampled datapoints. **You should notice that it resembles the original Gaussian Mixture.**\n",
    "\n",
    "**Steps**\n",
    "- First, to estimate the parameters of the Gaussian Mixture, you'll need to fit your GMM implementation to the dataset. You need to specify K=3 to represent 3 gaussians in our model, and run the EM algorithm. You'll have to choose the value for max_iters. If at the end of this section, your plot of the sampled datapoints doesn't look like the original distribution, you may need to increase max_iters to fit the GMM model better, and obtain better estimates of the  parameters.\n",
    "- Once you heve the estimated parameters, we'll need to sample 1000 datapoints from the Gaussian Mixture. You will be using a technique called Rejection Sampling discussed below. Here are some external sources that may help: https://cosmiccoding.com.au/tutorials/rejection_sampling, https://towardsdatascience.com/rejection-sampling-with-python-d7a30cfc327b\n",
    "    - We will be taking the approach from the first link, but extending it into the 2D space.\n",
    "- The formula for the density function is $f(x_i) = \\sum_{k=1}^{K} \\pi(k) \\mathcal{N}(x_i | \\mu_k, \\Sigma_k)$\n"
   ]
  },
  {
   "cell_type": "markdown",
   "metadata": {},
   "source": [
    "**Generating vs Sampling**\n",
    "To generate points directly from a given distribution is done via Inverse transform sampling. In inverse transform sampling, we require taking the inverse of cummulative distribution function for our gaussian mixture model. This operation in general can be expensive unless there is some known formula for inverting the CDF. It is also not always possible to take the inverse of the CDF of a gaussian mixture model. For these reasons we will implement a sampling method instead. This sampling method will give us points matching the gmm without the computation and mathematical concerns of generation.\n",
    "\n",
    "**Rejection Sampling**\n",
    "\n",
    "Conventionally we think of Gaussian Mixture Models as a form of soft clustering, but you can also think of them as an algorithm for estimating density of data points with gaussians. Thus we can take an arbitary data point and using the gaussian mixture model as an estimation for the density at a given location. From here we want the points that we sample to be proportional to the density at a given location.\n",
    "\n",
    "We go about this by, choosing an arbitary point (x,y). Then we use the density formula function $f(x_i) = \\sum_{k=1}^{K} \\pi(k) \\mathcal{N}(x_i | \\mu_k, \\Sigma_k)$ to find out what the density of points is at (x,y). Now that we have the density, we can draw a random number between 0 and the maximum density to determine if we will keep or discard (x,y). If the random number drawn is less than the density, then (x,y) is our sample, otherwise we discard (x,y) and repeat. This method ensure that the samples we generate are proportional to the density predicted by our GMM at any given area."
   ]
  },
  {
   "cell_type": "code",
   "execution_count": null,
   "metadata": {},
   "outputs": [],
   "source": [
    "# TODO: fit your GMM implementation to the dataset, Undergrads remember to set full_matrix to False\n",
    "\n",
    "\n",
    "# Print the estimated parameters\n",
    "print(pi, '\\n')\n",
    "print(mu, '\\n')\n",
    "print(sigma)"
   ]
  },
  {
   "cell_type": "code",
   "execution_count": null,
   "metadata": {},
   "outputs": [],
   "source": [
    "###############################\n",
    "### DO NOT CHANGE THIS CELL ###\n",
    "###############################\n",
    "\n",
    "# Extract x and y\n",
    "x = data[:, 0]\n",
    "y = data[:, 1]\n",
    "\n",
    "# Define the borders of the grid\n",
    "deltaX = (max(x) - min(x))/10\n",
    "deltaY = (max(y) - min(y))/10\n",
    "xmin = min(x) - deltaX\n",
    "xmax = max(x) + deltaX\n",
    "ymin = min(y) - deltaY\n",
    "ymax = max(y) + deltaY\n",
    "\n",
    "\n",
    "# Create meshgrid\n",
    "xx, yy = np.mgrid[xmin:xmax:100j, ymin:ymax:100j]\n",
    "# coordinates of the points that make the grid\n",
    "positions = np.vstack([xx.ravel(), yy.ravel()]).T "
   ]
  },
  {
   "cell_type": "code",
   "execution_count": null,
   "metadata": {},
   "outputs": [],
   "source": [
    "def density(points, pi, mu, sigma, gmm):\n",
    "    \"\"\"Evaluate the density at each point on the grid.\n",
    "    Args:\n",
    "        points: (N, 2) numpy array containing the coordinates of the points that make up the grid. \n",
    "        pi: (K,) numpy array containing the mixture coefficients for each class\n",
    "        mu: (K, D) numpy array containing the means of each cluster\n",
    "        sigma: (K, D, D) numpy array containing the covariance matrixes of each cluster\n",
    "        gmm: an instance of the GMM model\n",
    "        \n",
    "    Return:\n",
    "        densities: (N, ) numpy array containing densities at each point on the grid\n",
    "    \n",
    "    HINT: You should be using the formula given in the hints.\n",
    "    \"\"\"\n",
    "    # TODO: Implement this function\n",
    "    \n",
    "    return densities\n",
    "\n",
    "\n",
    "\n",
    "# get the density at each coordinate on the grid\n",
    "densities = np.reshape(density(positions, pi, mu, sigma, gmm), xx.shape)\n"
   ]
  },
  {
   "cell_type": "code",
   "execution_count": null,
   "metadata": {},
   "outputs": [],
   "source": [
    "###############################\n",
    "### DO NOT CHANGE THIS CELL ###\n",
    "###############################\n",
    "\n",
    "fig = plt.figure(figsize=(13, 7), dpi=100)\n",
    "ax = plt.axes(projection='3d')\n",
    "surf = ax.plot_surface(xx, yy, densities, rstride=1, cstride=1, cmap='coolwarm', edgecolor='none')\n",
    "ax.set_xlabel('x')\n",
    "ax.set_ylabel('y')\n",
    "ax.set_zlabel('PDF')\n",
    "ax.set_title('Surface plot of 2D Gaussian Mixture Densities')\n",
    "fig.colorbar(surf, shrink=0.5, aspect=5) # add color bar indicating the PDF\n",
    "ax.view_init(60, 35)"
   ]
  },
  {
   "cell_type": "code",
   "execution_count": null,
   "metadata": {},
   "outputs": [],
   "source": [
    "###############################\n",
    "### DO NOT CHANGE THIS CELL ###\n",
    "###############################\n",
    "\n",
    "fig = plt.figure(figsize=(13, 7), dpi=100)\n",
    "ax = plt.axes(projection='3d')\n",
    "w = ax.plot_wireframe(xx, yy, densities)\n",
    "ax.set_xlabel('x')\n",
    "ax.set_ylabel('y')\n",
    "ax.set_zlabel('PDF')\n",
    "ax.set_title('Wireframe plot of 2D Gaussian Mixture')"
   ]
  },
  {
   "cell_type": "code",
   "execution_count": null,
   "metadata": {},
   "outputs": [],
   "source": [
    "###############################\n",
    "### DO NOT CHANGE THIS CELL ###\n",
    "###############################\n",
    "\n",
    "def rejection_sample(xmin, xmax, ymin, ymax, gmm, dmax=1, M=0.1):\n",
    "    \"\"\"Performs rejection sampling. Keep sampling datapoints until d <= f(x, y) / M\n",
    "    Args:\n",
    "        xmin: lower bound on x values\n",
    "        xmax: upper bound on x values \n",
    "        ymin: lower bound on y values\n",
    "        ymax: upper bound on y values\n",
    "        gmm: an instance of the GMM model\n",
    "        dmax: the upper bound on d\n",
    "        M: scale_factor. can be used to control the fraction of samples that are rejected\n",
    "        \n",
    "    Return:\n",
    "        x, y: the coordinates of the sampled datapoint\n",
    "    \n",
    "    HINT: Refer to the links in the hints\n",
    "    \"\"\"\n",
    "    while True:\n",
    "        x = np.random.uniform(low=xmin, high=xmax)\n",
    "        y = np.random.uniform(low=ymin, high=ymax)\n",
    "        d = np.random.uniform(low=0, high=dmax)\n",
    "        if d < density(np.array([x,y]).reshape(1,2), pi, mu, sigma, gmm) / M:\n",
    "            return x, y"
   ]
  },
  {
   "cell_type": "code",
   "execution_count": null,
   "metadata": {},
   "outputs": [],
   "source": [
    "###############################\n",
    "### DO NOT CHANGE THIS CELL ###\n",
    "###############################\n",
    "\n",
    "# Sample datapoints using Rejection Sampling\n",
    "generated_datapoints = np.zeros((1000, 2))\n",
    "i = 0\n",
    "while i < 1000:\n",
    "    generated_datapoints[i,0], generated_datapoints[i,1] = rejection_sample(xmin, xmax, ymin, ymax, gmm, dmax=1)\n",
    "    if i % 100 == 0:\n",
    "        print(i)\n",
    "    i += 1\n",
    "    "
   ]
  },
  {
   "cell_type": "code",
   "execution_count": null,
   "metadata": {},
   "outputs": [],
   "source": [
    "###############################\n",
    "### DO NOT CHANGE THIS CELL ###\n",
    "###############################\n",
    "\n",
    "plt.scatter(generated_datapoints[:,0], generated_datapoints[:,1])\n",
    "plt.axis('equal')\n",
    "plt.title('Sampled Datapoints')\n",
    "plt.show()"
   ]
  },
  {
   "cell_type": "markdown",
   "metadata": {
    "id": "NhVsVVOA_MwB"
   },
   "source": [
    "## 4. (Bonus for All) Cleaning Messy data and semi-supervised learning [34pts Bonus for All]\n",
    "\n",
    "Learning to work with messy data is a hallmark of a well-rounded data scientist. In most real-world settings the data given will usually have some issue, so it is important to learn skills to work around such impasses. This part of the assignment looks to expose you to clever ways to fix data using concepts that you have already learned in the prior questions.\n",
    "\n",
    "#### Question\n",
    "\n",
    "After graduating from Georgia Tech with your shiny new degree, you are recruited to help with safety testing for the Mars rocket at NASA. Of course NASA won't be sending rocket after rocket to stress test your fellow employees' engineering (they also graduated from Tech, so you have full confidence in them), so instead, NASA has decided to run numerous simulations on the current engineering design of the Mars rocket. The simulation collects shuttle data from its sensors, resulting in 8 features which include bypass, rad flow, etc. These features are contained within the first through eighth columns. The ninth column shows the label with 1 being a successful simulation and 0 being an unsuccessful simulation. \n",
    "\n",
    "However, due to an intern accidentally deleting random data points, 20% of the entries are missing labels and 30% are missing characterization data. Since simply removing the corrupted entries would not reflect the true variance of the data, your job is to implement a solution to clean the data so it can be properly classified. Thankfully there is a maximum of one missing datapoint for each entry, which means this datapoint can be approximated using the uncorrupted data. \n",
    "\n",
    "Your job is to assist NASA in cleaning the data and implementing a semi-supervised learning framework to help them create a general classifier for future simulations.\n",
    "\n",
    "You are given two files for this task:\n",
    "* data.csv: the entire dataset with complete and incomplete data\n",
    "* validation.csv: a smaller, fully complete dataset made after the intern deleted the datapoints"
   ]
  },
  {
   "cell_type": "markdown",
   "metadata": {
    "id": "XNi4X5bk_MwB"
   },
   "source": [
    "### 4.1 Data Cleaning [12pts]\n",
    "\n",
    "\n",
    "### 4.1.a Data Separating [3pts]\n",
    "The first step is to break up the whole dataset into clear parts. All the data is randomly shuffled in one csv file. In order to move forward, the data needs to be split into three separate arrays: \n",
    "* labeled_complete: containing the complete characterization data and corresponding labels \n",
    "* labeled_incomplete: containing partial characterization data (i.e., one of the features is NaN) and corresponding labels\n",
    "* unlabeled_complete: containing complete characterization data but no corresponding labels (i.e., the label is NaN)\n",
    "\n",
    "In **semisupervised.py**, implement the following methods:\n",
    "- complete_\n",
    "- incomplete_\n",
    "- unlabeled_"
   ]
  },
  {
   "cell_type": "code",
   "execution_count": null,
   "metadata": {
    "id": "oKXYgzvc_MwC",
    "outputId": "7b99134a-19d8-4759-ea33-bc8aa7b64439"
   },
   "outputs": [],
   "source": [
    "###############################\n",
    "### DO NOT CHANGE THIS CELL ###\n",
    "###############################\n",
    "\n",
    "localtests.SemisupervisedTests().test_data_separating_methods()"
   ]
  },
  {
   "cell_type": "markdown",
   "metadata": {
    "id": "CoW4bOY1_MwC"
   },
   "source": [
    "### 4.1.b KNN [7pts]\n",
    "The second step in this task is to clean the Labeled_incomplete dataset by filling in the missing values with probable ones derived from complete data. A useful approach to this type of problem is using a k-nearest neighbors (k-NN) algorithm. For this application, the method consists of replacing the missing value of a given point with the mean of the closest k-neighbors to that point.\n",
    "\n",
    "In the **CleanData** class in **semisupervised.py**, implement the following methods:\n",
    "- pairwise_dist\n",
    "- \\_\\_call__"
   ]
  },
  {
   "cell_type": "markdown",
   "metadata": {
    "id": "paq2V-yu_MwC"
   },
   "source": [
    "The unit test is a good expectation of what the process should look like on a toy dataset. If your output matches the answer, you are on the right track. Run the following cell to check.\n",
    "\n",
    "NOTE: Your rows of data should match with the expected output, although the order of the rows does not necessarily matter."
   ]
  },
  {
   "cell_type": "code",
   "execution_count": null,
   "metadata": {
    "id": "PZ0M7oKV_MwC",
    "outputId": "e918a1e2-206e-44f2-ccf7-f17b3bf20fc8"
   },
   "outputs": [],
   "source": [
    "###############################\n",
    "### DO NOT CHANGE THIS CELL ###\n",
    "###############################\n",
    "\n",
    "localtests.SemisupervisedTests().test_cleandata()"
   ]
  },
  {
   "cell_type": "markdown",
   "metadata": {},
   "source": [
    "### 4.1.c Mean of Features [2pts]\n",
    "\n",
    "Another method of filling the missing values is by using the mean of individual features. The mean of all non-NaN values of a feature could be used to replace any NaN value belonging to the feature. Implement the mean_clean_data method in accordance with this rule.\n",
    "NOTE: There should be no NaN values in the n*d array that you return from mean_clean_data.\n",
    "\n",
    "In **semisupervised.py**, implement the following method:\n",
    "- mean_clean_data"
   ]
  },
  {
   "cell_type": "code",
   "execution_count": null,
   "metadata": {},
   "outputs": [],
   "source": [
    "###############################\n",
    "### DO NOT CHANGE THIS CELL ###\n",
    "###############################\n",
    "\n",
    "localtests.SemisupervisedTests().test_mean_clean_data()"
   ]
  },
  {
   "cell_type": "markdown",
   "metadata": {
    "id": "3xqpO5wU_MwD"
   },
   "source": [
    "### 4.2 Supervised Learning [20pts]\n",
    "\n",
    "\n",
    "### 4.2.a Getting acquainted with semi-supervised learning approaches. [5pts]\n",
    "\n",
    "Take a look at the algorithm presented in Table 1 of the paper [\"Text Classification from Labeled and Unlabeled Documents using EM\"](http://www.kamalnigam.com/papers/emcat-mlj99.pdf) by Nigam et al. (2000). While you are recommended to read the whole paper this assignment focuses on items 5.2 and 6.1. Write a brief summary of three interesting highlights of the paper (50-words maximum).\n",
    "\n"
   ]
  },
  {
   "cell_type": "markdown",
   "metadata": {
    "id": "47oHreu7_MwD"
   },
   "source": [
    "### 4.2.b Implementing the EM algorithm. [10pts]\n",
    "Implement the EM algorithm proposed by Nigam et al. (2000) on Table 1, using a Gaussian Naive Bayes (GNB) classifier instead of a Naive Bayes (NB) classifier. (Hint: Using a GNB in place of an NB will enable you to reuse most of the implementation you developed for GMM in this assignment. In fact, you can successfully solve the problem by simply modifying the call and \\_init_components methods.)\n",
    "\n",
    "In the **SemiSupervised** class in **semisupervised.py**, implement the following methods:\n",
    "- \\_init_components\n",
    "- \\_\\_call__"
   ]
  },
  {
   "cell_type": "markdown",
   "metadata": {
    "id": "-vmUAYXN_MwD"
   },
   "source": [
    "### 4.3 Demonstrating the performance of the algorithm. [5pts]\n",
    "Compare the classification error based on the Gaussian Naive Bayes (GNB) classifier you implemented following the Nigam et al. (2000) approach to the performance of a GNB classifier trained using only labeled data. Since you have not covered supervised learning in class, you are allowed to use the scikit learn library for training the GNB classifier based only on labeled data: https://scikit-learn.org/stable/modules/generated/sklearn.naive_bayes.GaussianNB.html.\n",
    "\n",
    "In the **ComparePerformance** class in **semisupervised.py**, implement the following method:\n",
    "- accuracy_semi_supervised\n",
    "- accuracy_GNB\n",
    "\n",
    "To acheive the full 5 points you must implement the `ComparePerformance.accuracy_semi_supervised` and `ComparePerformance.accuracy_GNB` methods and get these scores:\n",
    "* accuracy_complete_data_only > 87% \n",
    "* accuracy_cleaned_data > 87%\n",
    "* accuracy_semi_supervised > 87% "
   ]
  },
  {
   "cell_type": "code",
   "execution_count": null,
   "metadata": {
    "id": "25JoKgo7_MwD"
   },
   "outputs": [],
   "source": [
    "###############################\n",
    "### DO NOT CHANGE THIS CELL ###\n",
    "###############################\n",
    "from semisupervised import complete_\n",
    "from semisupervised import incomplete_\n",
    "from semisupervised import unlabeled_\n",
    "from semisupervised import mean_clean_data\n",
    "from semisupervised import CleanData\n",
    "from semisupervised import ComparePerformance"
   ]
  },
  {
   "cell_type": "code",
   "execution_count": null,
   "metadata": {
    "id": "ysS1zMpX_MwD",
    "outputId": "68213a00-3a0e-435c-b42e-374a0d7d22ca"
   },
   "outputs": [],
   "source": [
    "###############################\n",
    "### DO NOT CHANGE THIS CELL ###\n",
    "###############################\n",
    "\n",
    "# Load training data\n",
    "all_data = np.loadtxt('data/data.csv', delimiter=',')\n",
    "\n",
    "# Separate training data into categories: labeled complete, labeled incomplete, and unlabeled points\n",
    "labeled_complete = complete_(all_data)\n",
    "labeled_incomplete = incomplete_(all_data)\n",
    "unlabeled = unlabeled_(all_data)\n",
    "\n",
    "# Perform data cleaning on labeled incomplete data \n",
    "cleaned_data = CleanData()(labeled_incomplete, labeled_complete, 10)\n",
    "\n",
    "# Combine cleaned data with unlabeled data\n",
    "cleaned_and_unlabeled = np.concatenate((cleaned_data, unlabeled), 0)\n",
    "\n",
    "# Category for data that is guaranteed to have label values\n",
    "labeled_data = np.concatenate((labeled_complete, labeled_incomplete), 0)\n",
    "\n",
    "# Perform mean data cleaning on all labeled data\n",
    "mean_cleaned_data = mean_clean_data(labeled_data)\n",
    "\n",
    "# Print data shapes\n",
    "print(f\"All Data shape:                 {all_data.shape}\")\n",
    "print(f\"Labeled Complete shape:         {labeled_complete.shape}\")\n",
    "print(f\"Labeled Incomplete shape:       {labeled_incomplete.shape}\")\n",
    "print(f\"Labeled shape:                  {labeled_data.shape}\")\n",
    "print(f\"Unlabeled shape:                {unlabeled.shape}\")\n",
    "print(f\"Cleaned data shape:             {cleaned_data.shape}\")\n",
    "print(f\"Cleaned + Unlabeled data shape: {cleaned_and_unlabeled.shape}\")\n",
    "\n",
    "# load validation data\n",
    "validation = np.loadtxt('data/validation.csv', delimiter=',')\n",
    "\n",
    "# =========================================================================\n",
    "# SUPERVISED GNB WITH ONLY THE COMPLETE DATA (SKLEARN)\n",
    "accuracy_complete_data_only = ComparePerformance.accuracy_GNB(labeled_complete, validation)\n",
    "# =========================================================================\n",
    "# SUPERVISED GNB WITH CLEAN DATA (SKLEARN)\n",
    "accuracy_cleaned_data = ComparePerformance.accuracy_GNB(cleaned_data, validation)\n",
    "# =========================================================================\n",
    "# SUPERVISED GNB WITH MEAN CLEAN DATA (SKLEARN)\n",
    "accuracy_mean_cleaned_data = ComparePerformance.accuracy_GNB(mean_cleaned_data, validation)\n",
    "# =========================================================================\n",
    "# SEMI SUPERVISED GNB WITH ALL DATA (your implementation)\n",
    "accuracy_semi_supervised = ComparePerformance.accuracy_semi_supervised(cleaned_and_unlabeled, validation, 2)\n",
    "# ==========================================================================\n",
    "# COMPARISON\n",
    "print(\"\"\"===COMPARISON===\"\"\")\n",
    "print(f\"Supervised with only complete data, GNB Accuracy: {np.round(100.0 * accuracy_complete_data_only, 3)}%\")\n",
    "print(f\"Supervised with KNN clean data, GNB Accuracy:     {np.round(100.0 * accuracy_cleaned_data, 3)}%\")\n",
    "print(f\"Supervised with Mean clean data, GNB Accuracy:    {np.round(100.0 * accuracy_mean_cleaned_data, 3)}%\")\n",
    "print(f\"SemiSupervised Accuracy:                          {np.round(100.0 * accuracy_semi_supervised, 3)}%\")"
   ]
  },
  {
   "cell_type": "markdown",
   "metadata": {},
   "source": [
    "### 4.4 Interpretation of Results. [2 pts]\n",
    "What are the differences in using the kNN method and the mean method to fill NaN values? Explain in terms of the results you get from each."
   ]
  },
  {
   "cell_type": "markdown",
   "metadata": {},
   "source": [
    "**Answer:**\n",
    "\n",
    "..."
   ]
  },
  {
   "cell_type": "code",
   "execution_count": null,
   "metadata": {},
   "outputs": [],
   "source": []
  }
 ],
 "metadata": {
  "colab": {
   "collapsed_sections": [
    "xuEnlmN4_Mv5",
    "OYMGmHnb_Mv5",
    "AsQ451om_Mv6",
    "F6RKWYnT_Mv6",
    "B5lmW2uC_Mv6",
    "fKoOWjNL_Mv6",
    "vEH3Rq6I_Mv7",
    "Ig0zfoum_Mv8",
    "Cj-SyonU_Mv9",
    "nVoCLl_3_Mv9",
    "7EOWVBev_Mv9",
    "XNi4X5bk_MwB",
    "CoW4bOY1_MwC",
    "3xqpO5wU_MwD",
    "47oHreu7_MwD",
    "-vmUAYXN_MwD"
   ],
   "name": "SUMMER2022_HW2_Solutions.ipynb",
   "provenance": []
  },
  "kernelspec": {
   "display_name": "Python 3 (ipykernel)",
   "language": "python",
   "name": "python3"
  },
  "language_info": {
   "codemirror_mode": {
    "name": "ipython",
    "version": 3
   },
   "file_extension": ".py",
   "mimetype": "text/x-python",
   "name": "python",
   "nbconvert_exporter": "python",
   "pygments_lexer": "ipython3",
   "version": "3.10.9"
  },
  "toc": {
   "base_numbering": 1,
   "nav_menu": {},
   "number_sections": true,
   "sideBar": true,
   "skip_h1_title": false,
   "title_cell": "Table of Contents",
   "title_sidebar": "Contents",
   "toc_cell": false,
   "toc_position": {},
   "toc_section_display": true,
   "toc_window_display": false
  },
  "vscode": {
   "interpreter": {
    "hash": "8d5898de744e81f038f74b9c2d3c367c793baf4177844e3bc088fa4ff16b9f93"
   }
  }
 },
 "nbformat": 4,
 "nbformat_minor": 4
}
