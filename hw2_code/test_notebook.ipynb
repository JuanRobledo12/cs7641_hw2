{
 "cells": [
  {
   "cell_type": "code",
   "execution_count": 18,
   "id": "bdccc014",
   "metadata": {},
   "outputs": [
    {
     "name": "stdout",
     "output_type": "stream",
     "text": [
      "-------------NxK---------------- \n",
      " [[0.81857661 0.67589106 0.97707566]\n",
      " [0.22623145 0.93678103 0.94186661]\n",
      " [0.35673096 0.73265523 0.40936713]\n",
      " [0.13902632 0.26230521 0.08247359]\n",
      " [0.87727745 0.74646322 0.74882838]\n",
      " [0.78164538 0.7625582  0.51322546]]\n",
      "-------------NxD---------------- \n",
      " [[0.06546933 0.17812313]\n",
      " [0.71737311 0.07119475]\n",
      " [0.19813981 0.79895675]\n",
      " [0.75816475 0.07523333]\n",
      " [0.94903415 0.05330772]\n",
      " [0.1353091  0.26814586]]\n",
      "-------------NxK_3D---------------- \n",
      " [[[0.81857661]\n",
      "  [0.22623145]\n",
      "  [0.35673096]\n",
      "  [0.13902632]\n",
      "  [0.87727745]\n",
      "  [0.78164538]]\n",
      "\n",
      " [[0.67589106]\n",
      "  [0.93678103]\n",
      "  [0.73265523]\n",
      "  [0.26230521]\n",
      "  [0.74646322]\n",
      "  [0.7625582 ]]\n",
      "\n",
      " [[0.97707566]\n",
      "  [0.94186661]\n",
      "  [0.40936713]\n",
      "  [0.08247359]\n",
      "  [0.74882838]\n",
      "  [0.51322546]]]\n",
      "-------------result---------------- \n",
      " [[[0.05359166 0.14580743]\n",
      "  [0.16229236 0.01610649]\n",
      "  [0.0706826  0.2850126 ]\n",
      "  [0.10540486 0.01045941]\n",
      "  [0.83256626 0.04676566]\n",
      "  [0.10576373 0.20959497]]\n",
      "\n",
      " [[0.04425013 0.12039183]\n",
      "  [0.67202152 0.06669389]\n",
      "  [0.14516817 0.58535984]\n",
      "  [0.19887057 0.01973409]\n",
      "  [0.70841909 0.03979226]\n",
      "  [0.10318106 0.20447682]]\n",
      "\n",
      " [[0.06396849 0.17403977]\n",
      "  [0.67566978 0.06705596]\n",
      "  [0.08111193 0.32706663]\n",
      "  [0.06252857 0.00620476]\n",
      "  [0.71066371 0.03991834]\n",
      "  [0.06944407 0.13761928]]]\n"
     ]
    }
   ],
   "source": [
    "import numpy as np\n",
    "\n",
    "# Generate sample arrays\n",
    "N, K = 6, 3\n",
    "NxK = np.random.rand(N, K) #GAMMA\n",
    "print('-------------NxK---------------- \\n',NxK)\n",
    "NxD = np.random.rand(N, 2) #DATAPOINTS\n",
    "print('-------------NxD---------------- \\n', NxD)\n",
    "\n",
    "# Reshape NxK array to have 3 dimensions: N x K x 1\n",
    "NxK_transpose = np.transpose(NxK)\n",
    "NxK_3D = NxK_transpose[:,:,np.newaxis]\n",
    "print('-------------NxK_3D---------------- \\n',NxK_3D)\n",
    "\n",
    "# Multiply NxK_3D with NxD to get the result\n",
    "result = NxK_3D * NxD\n",
    "print('-------------result---------------- \\n', result)\n",
    "\n",
    "# Reshape result back to 2 dimensions: N x (K*D)\n",
    "#result = result.reshape(N, K*2)"
   ]
  },
  {
   "cell_type": "code",
   "execution_count": 25,
   "id": "8854a440",
   "metadata": {},
   "outputs": [
    {
     "data": {
      "text/plain": [
       "array([[1.33030147, 0.71374657],\n",
       "       [1.87191054, 1.03644874],\n",
       "       [1.66338654, 0.75190474]])"
      ]
     },
     "execution_count": 25,
     "metadata": {},
     "output_type": "execute_result"
    }
   ],
   "source": [
    "np.sum(result, axis=1)"
   ]
  },
  {
   "cell_type": "code",
   "execution_count": null,
   "id": "2987f986",
   "metadata": {},
   "outputs": [],
   "source": []
  }
 ],
 "metadata": {
  "kernelspec": {
   "display_name": "Python 3 (ipykernel)",
   "language": "python",
   "name": "python3"
  },
  "language_info": {
   "codemirror_mode": {
    "name": "ipython",
    "version": 3
   },
   "file_extension": ".py",
   "mimetype": "text/x-python",
   "name": "python",
   "nbconvert_exporter": "python",
   "pygments_lexer": "ipython3",
   "version": "3.10.9"
  }
 },
 "nbformat": 4,
 "nbformat_minor": 5
}
